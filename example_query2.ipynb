{
 "cells": [
  {
   "cell_type": "code",
   "execution_count": null,
   "metadata": {},
   "outputs": [],
   "source": [
    "from micro_namedtuple_sqlite_persister.persister import Engine\n",
    "from micro_namedtuple_sqlite_persister.query2 import select, select_query\n",
    "from typing import NamedTuple"
   ]
  },
  {
   "cell_type": "code",
   "execution_count": null,
   "metadata": {},
   "outputs": [],
   "source": [
    "class League(NamedTuple):\n",
    "    id: int | None\n",
    "    leaguename: str\n",
    "\n",
    "class Team(NamedTuple):\n",
    "    id: int | None\n",
    "    teamname: str\n",
    "    league: League\n",
    "\n",
    "class Athlete(NamedTuple):\n",
    "    id: int | None\n",
    "    name: str\n",
    "    team: Team\n",
    "\n",
    "\n",
    "engine = Engine(\":memory:\")\n",
    "engine.ensure_table_created(League, force_recreate=True)\n",
    "engine.ensure_table_created(Team, force_recreate=True)\n",
    "engine.ensure_table_created(Athlete, force_recreate=True)\n",
    "\n",
    "# Generate dummy data\n",
    "leagues = [engine.save(League(None, \"Big\")), engine.save(League(None, \"Small\"))]\n",
    "teams = [\n",
    "    engine.save(Team(None, \"Red\", leagues[0])),\n",
    "      engine.save(Team(None, \"Ramble\", leagues[1])),\n",
    "      engine.save(Team(None, \"Blue\", leagues[0])),\n",
    "      engine.save(Team(None, \"Green\", leagues[1])),\n",
    "      ]\n",
    "players = [\n",
    "    engine.save(Athlete(None, \"Alice\", teams[0])),\n",
    "    engine.save(Athlete(None, \"Bob\", teams[0])),\n",
    "    engine.save(Athlete(None, \"Charlie\", teams[1])),\n",
    "    engine.save(Athlete(None, \"Dave\", teams[2])),\n",
    "    engine.save(Athlete(None, \"Beth\", teams[3])),\n",
    "    engine.save(Athlete(None, \"Frank\", teams[2])),\n",
    "]\n",
    "engine.connection.commit()\n",
    "\n"
   ]
  },
  {
   "cell_type": "code",
   "execution_count": null,
   "metadata": {},
   "outputs": [],
   "source": [
    "@select_query(Athlete)\n",
    "def athletes_named_frank():\n",
    "    f\"WHERE {Athlete.name} = 'Frank'\"\n",
    "\n",
    "M, q = athletes_named_frank()\n",
    "print(q, '\\n')\n",
    "\n",
    "for row in engine.query(M, q).fetchall():\n",
    "    print(row)"
   ]
  },
  {
   "cell_type": "code",
   "execution_count": null,
   "metadata": {},
   "outputs": [],
   "source": [
    "@select_query(Athlete)\n",
    "def athletes_on_red_team():\n",
    "    f\"WHERE {Athlete.team.teamname} LIKE 'R%'\"\n",
    "\n",
    "M, q = athletes_on_red_team()\n",
    "print(q, '\\n')\n",
    "\n",
    "for row in engine.query(M, q).fetchall():\n",
    "    print(row)"
   ]
  },
  {
   "cell_type": "code",
   "execution_count": null,
   "metadata": {},
   "outputs": [],
   "source": [
    "@select_query(Athlete)\n",
    "def athletes_in_big_league():\n",
    "    f\"WHERE {Athlete.team.league.leaguename} = 'Big'\"\n",
    "M, q = athletes_in_big_league()\n",
    "print(q, '\\n')\n",
    "\n",
    "for row in engine.query(M, q).fetchall():\n",
    "    print(row)"
   ]
  },
  {
   "cell_type": "code",
   "execution_count": null,
   "metadata": {},
   "outputs": [],
   "source": [
    "@select_query(Athlete)\n",
    "def athletes_in_big_red():\n",
    "    f\"\"\"\n",
    "    WHERE\n",
    "        {Athlete.team.league.leaguename} = 'Big'\n",
    "        AND {Athlete.team.teamname} Like 'R%'\n",
    "    \"\"\"\n",
    "M, q = athletes_in_big_red()\n",
    "print(q, '\\n')\n",
    "\n",
    "for row in engine.query(M, q).fetchall():\n",
    "    print(row)"
   ]
  },
  {
   "cell_type": "code",
   "execution_count": null,
   "metadata": {},
   "outputs": [],
   "source": [
    "@select_query(Athlete)\n",
    "def athletes_in_big_league():\n",
    "    f\"WHERE {Athlete.team.league.leaguename} = 'Big'\"\n",
    "\n",
    "for row in engine.query(*athletes_in_big_league()).fetchall():\n",
    "    print(row)"
   ]
  }
 ],
 "metadata": {
  "kernelspec": {
   "display_name": ".venv",
   "language": "python",
   "name": "python3"
  },
  "language_info": {
   "codemirror_mode": {
    "name": "ipython",
    "version": 3
   },
   "file_extension": ".py",
   "mimetype": "text/x-python",
   "name": "python",
   "nbconvert_exporter": "python",
   "pygments_lexer": "ipython3",
   "version": "3.13.2"
  }
 },
 "nbformat": 4,
 "nbformat_minor": 2
}
