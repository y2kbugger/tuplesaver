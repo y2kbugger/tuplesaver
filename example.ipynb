{
 "cells": [
  {
   "cell_type": "code",
   "execution_count": null,
   "metadata": {},
   "outputs": [],
   "source": [
    "from __future__ import annotations\n",
    "import datetime as dt\n",
    "from typing import NamedTuple\n",
    "\n",
    "from micro_namedtuple_sqlite_persister.persister import Engine, enable_included_adaptconverters\n",
    "enable_included_adaptconverters()"
   ]
  },
  {
   "cell_type": "code",
   "execution_count": null,
   "metadata": {},
   "outputs": [],
   "source": [
    "class MyModel(NamedTuple):\n",
    "    id: int | None\n",
    "    name: str\n",
    "    date: dt.datetime\n",
    "    score: float | None"
   ]
  },
  {
   "cell_type": "code",
   "execution_count": null,
   "metadata": {},
   "outputs": [],
   "source": [
    "# engine = Engine(\":memory:\")\n",
    "engine = Engine(\"example.db\", echo_sql=False)\n",
    "engine.ensure_table_created(MyModel, force_recreate=True)"
   ]
  },
  {
   "cell_type": "code",
   "execution_count": null,
   "metadata": {},
   "outputs": [],
   "source": [
    "row = MyModel(None, \"Bart\", dt.datetime.now(), 6.5)\n",
    "row = engine.insert(row)\n",
    "engine.connection.commit()\n",
    "row"
   ]
  },
  {
   "cell_type": "code",
   "execution_count": null,
   "metadata": {},
   "outputs": [],
   "source": [
    "engine.get(MyModel,row.id)"
   ]
  },
  {
   "cell_type": "code",
   "execution_count": null,
   "metadata": {},
   "outputs": [],
   "source": [
    "from random import random\n",
    "randfloat = random()\n",
    "assert row.score is not None\n",
    "engine.update(row._replace(score=row.score*randfloat))\n",
    "engine.connection.commit()"
   ]
  },
  {
   "cell_type": "code",
   "execution_count": null,
   "metadata": {},
   "outputs": [],
   "source": [
    "row2 = engine.insert(MyModel(None, \"foo\", dt.datetime.now(), 6.5))\n",
    "\n",
    "print(f\"\\nAbout to delete the recently insert row: {row2} by id\")\n",
    "engine.delete(MyModel, row2.id)\n",
    "\n",
    "engine.connection.commit()"
   ]
  },
  {
   "cell_type": "code",
   "execution_count": null,
   "metadata": {},
   "outputs": [],
   "source": [
    "row3 = engine.insert(MyModel(None, \"bar\", dt.datetime.now(), 9.5))\n",
    "\n",
    "print(f\"\\nAbout to delete the recently insert row: {row3}, by row instance\")\n",
    "engine.delete(row3)\n",
    "\n",
    "engine.connection.commit()"
   ]
  },
  {
   "cell_type": "code",
   "execution_count": null,
   "metadata": {},
   "outputs": [],
   "source": [
    "# insert many\n",
    "for i in range(25000):\n",
    "    engine.insert(MyModel(None, \"foo\", dt.datetime.now(), random()*100))\n",
    "\n",
    "engine.connection.commit()"
   ]
  },
  {
   "cell_type": "code",
   "execution_count": null,
   "metadata": {},
   "outputs": [],
   "source": [
    "# update many\n",
    "for id in range(1, 5001):\n",
    "    engine.update(MyModel(id, \"drew\", dt.datetime.now(), random()*100))\n",
    "\n",
    "engine.connection.commit()"
   ]
  },
  {
   "cell_type": "markdown",
   "metadata": {},
   "source": [
    "# Querying"
   ]
  },
  {
   "cell_type": "code",
   "execution_count": null,
   "metadata": {},
   "outputs": [],
   "source": [
    "from micro_namedtuple_sqlite_persister.query import select, gt, and_, eq\n",
    "\n",
    "M, q = select(MyModel, where=gt(MyModel.score, 99.7))\n",
    "\n",
    "c = 1\n",
    "for r in engine.query(M,q).fetchall():\n",
    "    print(f\"{r.score:5.1f}\", end=\" \")\n",
    "    if c% 30 == 0:\n",
    "        print()\n",
    "    c += 1\n",
    "print()\n",
    "\n"
   ]
  },
  {
   "cell_type": "code",
   "execution_count": null,
   "metadata": {},
   "outputs": [],
   "source": [
    "M, q = select(MyModel, where=gt(MyModel.name, \"bart\"), limit=1)\n",
    "engine.query(M, q).fetchone()\n",
    "\n"
   ]
  },
  {
   "cell_type": "code",
   "execution_count": null,
   "metadata": {},
   "outputs": [],
   "source": [
    "# Demo raw sql\n",
    "class AverageScoreResults(NamedTuple):\n",
    "    avg_score: float\n",
    "    scorecount: int\n",
    "\n",
    "sql = 'select avg(score),count(*) from MyModel'\n",
    "\n",
    "result = engine.query(AverageScoreResults, sql).fetchone()\n",
    "print(f'The table has {result.scorecount} rows, with and average of {result.avg_score:0.2f}')"
   ]
  },
  {
   "cell_type": "markdown",
   "metadata": {},
   "source": [
    "# Save and load related models recursively"
   ]
  },
  {
   "cell_type": "code",
   "execution_count": null,
   "metadata": {},
   "outputs": [],
   "source": [
    "class Team(NamedTuple):\n",
    "    id: int | None\n",
    "    name: str\n",
    "\n",
    "class Person(NamedTuple):\n",
    "    id: int | None\n",
    "    name: str\n",
    "    team: Team\n",
    "\n",
    "engine.ensure_table_created(Team)\n",
    "engine.ensure_table_created(Person)\n",
    "\n",
    "team = Team(None, \"Team A\")\n",
    "person = Person(None, \"Alice\", team)\n",
    "person = engine.insert(person)\n",
    "engine.connection.commit()\n",
    "row = engine.query(Person, \"SELECT * FROM Person LIMIT 1;\").fetchone()\n",
    "\n",
    "print(row)\n",
    "row.team.name"
   ]
  },
  {
   "cell_type": "markdown",
   "metadata": {},
   "source": [
    "## recursive saving of a giant BOM"
   ]
  },
  {
   "cell_type": "code",
   "execution_count": null,
   "metadata": {},
   "outputs": [],
   "source": [
    "class BOM(NamedTuple):\n",
    "    id: int | None\n",
    "    name: str\n",
    "    value: float\n",
    "    child_a: BOM | None\n",
    "    child_b: BOM | None\n",
    "\n",
    "engine.ensure_table_created(BOM, force_recreate=False)\n",
    "\n",
    "from random import random, choice\n",
    "node_count = 0\n",
    "def generate_node_name_node(depth: int) -> str:\n",
    "    alphabet = \"ABCDEFGHIJKLMNOPQRSTUVWXYZ\"\n",
    "    return f\"{choice(alphabet)}{choice(alphabet)}{choice(alphabet)}{depth:05d}_{node_count}\"\n",
    "\n",
    "\n",
    "# create a giant BOM, of 15 levels deep\n",
    "def create_bom(depth: int) -> BOM:\n",
    "    global node_count\n",
    "    node_count += 1\n",
    "\n",
    "    if depth == 1:\n",
    "        child_a = None\n",
    "        child_b = None\n",
    "    else:\n",
    "        child_a = create_bom(depth-1)\n",
    "        child_b = create_bom(depth-1)\n",
    "\n",
    "    return BOM(None, generate_node_name_node(depth), random()*1000 - 500, child_a, child_b)\n",
    "\n",
    "root = create_bom(13)\n",
    "print(f\"Created a BOM with {node_count} nodes\")"
   ]
  },
  {
   "cell_type": "code",
   "execution_count": null,
   "metadata": {},
   "outputs": [],
   "source": [
    "inserted_root = engine.insert(root)\n",
    "engine.connection.commit()\n",
    "\n",
    "print(f\"Inserted BOM with id: {inserted_root.id}\")"
   ]
  },
  {
   "cell_type": "code",
   "execution_count": null,
   "metadata": {},
   "outputs": [],
   "source": [
    "recovered_root = engine.get(BOM, inserted_root.id)\n",
    "\n",
    "def count_nodes(node: BOM | None) -> int:\n",
    "    if node is None:\n",
    "        return 0\n",
    "    return 1 + count_nodes(node.child_a) + count_nodes(node.child_b)\n",
    "\n",
    "print(f\"Recovered BOM with {count_nodes(recovered_root)} nodes\")\n"
   ]
  },
  {
   "cell_type": "code",
   "execution_count": null,
   "metadata": {},
   "outputs": [],
   "source": [
    "import matplotlib.pyplot as plt\n",
    "import networkx as nx\n",
    "\n",
    "def add_nodes_edges(G: nx.Graph, node: BOM | None):\n",
    "    if node is None:\n",
    "        return\n",
    "\n",
    "    G.add_node(node.id, label=node.name)\n",
    "    if node.child_a is not None:\n",
    "        G.add_edge(node.id, node.child_a.id)\n",
    "        add_nodes_edges(G, node.child_a)\n",
    "\n",
    "    if node.child_b is not None:\n",
    "        G.add_edge(node.id, node.child_b.id)\n",
    "        add_nodes_edges(G, node.child_b)\n",
    "\n",
    "G = nx.Graph()\n",
    "add_nodes_edges(G, recovered_root)\n",
    "\n",
    "pos = nx.nx_agraph.graphviz_layout(G, prog=\"twopi\", args=\"\")\n",
    "plt.figure(figsize=(10, 10))\n",
    "def alpha(x, a=-.8, b=6.5):\n",
    "    import math\n",
    "    return 1 / (1 + math.exp(-a * (math.log(x) - b)))\n",
    "nx.draw(G, pos, node_size=10, alpha=alpha(node_count), node_color=\"blue\", with_labels=node_count<1200, labels=nx.get_node_attributes(G, \"label\"))\n",
    "plt.axis(\"equal\")\n",
    "plt.show()"
   ]
  },
  {
   "cell_type": "code",
   "execution_count": null,
   "metadata": {},
   "outputs": [],
   "source": [
    "#engine.query(*select(BOM)).fetchall() TODO: make a id select instead of Model"
   ]
  },
  {
   "cell_type": "markdown",
   "metadata": {},
   "source": [
    "# Persisting Custom Types: Adapt/Convert"
   ]
  },
  {
   "cell_type": "code",
   "execution_count": null,
   "metadata": {},
   "outputs": [],
   "source": [
    "import pandas as pd\n",
    "import pickle\n",
    "\n",
    "from micro_namedtuple_sqlite_persister.persister import register_adapt_convert\n",
    "\n",
    "def adapt_df(obj: pd.DataFrame) -> bytes:\n",
    "    return pickle.dumps(obj)\n",
    "\n",
    "\n",
    "def convert_df(data: bytes) -> pd.DataFrame:\n",
    "    return pickle.loads(data)\n",
    "\n",
    "\n",
    "register_adapt_convert(pd.DataFrame, adapt_df, convert_df, overwrite=True)\n",
    "\n",
    "\n",
    "class MyModel2(NamedTuple):\n",
    "    id: int | None\n",
    "    name: str\n",
    "    df: pd.DataFrame\n",
    "\n",
    "engine.ensure_table_created(MyModel2)\n",
    "\n",
    "df = pd.DataFrame({\"a\": [1, 2, 3], \"b\": [4, 5, 6]})\n",
    "row = engine.insert(MyModel2(None, \"foo\", df))\n",
    "\n",
    "engine.get(MyModel2, row.id).df\n"
   ]
  },
  {
   "cell_type": "markdown",
   "metadata": {},
   "source": [
    "# Error Cases"
   ]
  },
  {
   "cell_type": "code",
   "execution_count": null,
   "metadata": {},
   "outputs": [],
   "source": [
    "# inserting a row with an id that already exists will raise an error\n",
    "engine.insert(MyModel(row.id, \"bar\", dt.datetime.now(), 3.14))"
   ]
  },
  {
   "cell_type": "code",
   "execution_count": null,
   "metadata": {},
   "outputs": [],
   "source": [
    "# Trying to update a row without specifying an id will raise an error\n",
    "engine.update(MyModel(None, \"bar\", dt.datetime.now(), 3.14))"
   ]
  },
  {
   "cell_type": "code",
   "execution_count": null,
   "metadata": {},
   "outputs": [],
   "source": [
    "# Raises an error if the id does not exist\n",
    "engine.update(MyModel(878787879879, \"bar\", dt.datetime.now(), 3.14))"
   ]
  },
  {
   "cell_type": "code",
   "execution_count": null,
   "metadata": {},
   "outputs": [],
   "source": [
    "# If schema already exists, but is not correct\n",
    "\n",
    "class MyModelExists(NamedTuple): # type: ignore this is part of the error\n",
    "    id: int | None\n",
    "    name: str\n",
    "engine.ensure_table_created(MyModelExists)\n",
    "\n",
    "class MyModelExists(NamedTuple):\n",
    "    id: int | None\n",
    "    name: str | None\n",
    "engine.ensure_table_created(MyModelExists)"
   ]
  },
  {
   "cell_type": "code",
   "execution_count": null,
   "metadata": {},
   "outputs": [],
   "source": [
    "# you have to have id: `int | None` as the first field\n",
    "\n",
    "class MyModelMissingId(NamedTuple):\n",
    "    name: str\n",
    "\n",
    "engine.ensure_table_created(MyModelMissingId)"
   ]
  },
  {
   "cell_type": "code",
   "execution_count": null,
   "metadata": {},
   "outputs": [],
   "source": []
  }
 ],
 "metadata": {
  "kernelspec": {
   "display_name": ".venv",
   "language": "python",
   "name": "python3"
  },
  "language_info": {
   "codemirror_mode": {
    "name": "ipython",
    "version": 3
   },
   "file_extension": ".py",
   "mimetype": "text/x-python",
   "name": "python",
   "nbconvert_exporter": "python",
   "pygments_lexer": "ipython3",
   "version": "3.13.1"
  }
 },
 "nbformat": 4,
 "nbformat_minor": 2
}
