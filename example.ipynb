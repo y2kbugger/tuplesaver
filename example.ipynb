{
 "cells": [
  {
   "cell_type": "code",
   "execution_count": null,
   "metadata": {},
   "outputs": [],
   "source": [
    "import datetime as dt\n",
    "from typing import NamedTuple\n",
    "\n",
    "from micro_namedtuple_sqlite_persister.persister import Engine, register_serde\n"
   ]
  },
  {
   "cell_type": "code",
   "execution_count": null,
   "metadata": {},
   "outputs": [],
   "source": [
    "class MyModel(NamedTuple):\n",
    "    id: int | None\n",
    "    name: str\n",
    "    date: dt.datetime\n",
    "    score: float"
   ]
  },
  {
   "cell_type": "code",
   "execution_count": null,
   "metadata": {},
   "outputs": [],
   "source": [
    "# engine = Engine(\":memory:\")\n",
    "engine = Engine(\"example.db\")\n",
    "engine.ensure_table_created(MyModel)"
   ]
  },
  {
   "cell_type": "code",
   "execution_count": null,
   "metadata": {},
   "outputs": [],
   "source": [
    "row = MyModel(None, \"foo\", dt.datetime.now(), 6.5)\n",
    "row = engine.insert(row)\n",
    "row"
   ]
  },
  {
   "cell_type": "code",
   "execution_count": null,
   "metadata": {},
   "outputs": [],
   "source": [
    "engine.get(MyModel, row.id)"
   ]
  },
  {
   "cell_type": "code",
   "execution_count": null,
   "metadata": {},
   "outputs": [],
   "source": [
    "from random import random\n",
    "randfloat = random()\n",
    "engine.update(row._replace(score=row.score*randfloat))\n",
    "engine.get(MyModel, row.id)"
   ]
  },
  {
   "cell_type": "code",
   "execution_count": null,
   "metadata": {},
   "outputs": [],
   "source": [
    "row2 = engine.insert(MyModel(None, \"foo\", dt.datetime.now(), 6.5))\n",
    "print(row2)\n",
    "\n",
    "print(f\"\\nAbout to delete the recently insert row.id: {row2.id}\")\n",
    "engine.delete(MyModel, row2.id)"
   ]
  },
  {
   "cell_type": "code",
   "execution_count": null,
   "metadata": {},
   "outputs": [],
   "source": [
    "# Insert many\n",
    "\n",
    "for i in range(5000):\n",
    "    engine.insert(MyModel(None, \"foo\", dt.datetime.now(), random()*100))\n",
    "\n",
    "engine.connection.commit()"
   ]
  },
  {
   "cell_type": "code",
   "execution_count": null,
   "metadata": {},
   "outputs": [],
   "source": [
    "# update many\n",
    "for i in range(5000):\n",
    "    engine.update(MyModel(i+1, \"foo\", dt.datetime.now(), random()*100))\n",
    "\n",
    "engine.connection.commit()"
   ]
  },
  {
   "cell_type": "markdown",
   "metadata": {},
   "source": [
    "# Error Cases"
   ]
  },
  {
   "cell_type": "code",
   "execution_count": null,
   "metadata": {},
   "outputs": [],
   "source": [
    "# inserting a row with an id that already exists will raise an error\n",
    "engine.insert(MyModel(row.id, \"bar\", dt.datetime.now(), 3.14))"
   ]
  },
  {
   "cell_type": "code",
   "execution_count": null,
   "metadata": {},
   "outputs": [],
   "source": [
    "# Trying to update a row without specifying an id will raise an error\n",
    "engine.update(MyModel(None, \"bar\", dt.datetime.now(), 3.14))"
   ]
  },
  {
   "cell_type": "code",
   "execution_count": null,
   "metadata": {},
   "outputs": [],
   "source": [
    "# Raises an error if the id does not exist\n",
    "engine.update(MyModel(878787879879, \"bar\", dt.datetime.now(), 3.14))"
   ]
  },
  {
   "cell_type": "code",
   "execution_count": null,
   "metadata": {},
   "outputs": [],
   "source": []
  },
  {
   "cell_type": "markdown",
   "metadata": {},
   "source": [
    "# Custom Serialization/Deserialization"
   ]
  },
  {
   "cell_type": "code",
   "execution_count": null,
   "metadata": {},
   "outputs": [],
   "source": [
    "from io import BytesIO\n",
    "import pandas as pd\n",
    "\n",
    "from micro_namedtuple_sqlite_persister.persister import register_serde\n",
    "\n",
    "def serialize_df(obj: pd.DataFrame) -> bytes:\n",
    "    return obj.to_parquet()\n",
    "\n",
    "\n",
    "def deserialize_df(data: bytes) -> pd.DataFrame:\n",
    "    return pd.read_parquet(BytesIO(data))\n",
    "\n",
    "\n",
    "register_serde(serialize_df, deserialize_df)\n",
    "\n"
   ]
  }
 ],
 "metadata": {
  "kernelspec": {
   "display_name": ".venv",
   "language": "python",
   "name": "python3"
  },
  "language_info": {
   "codemirror_mode": {
    "name": "ipython",
    "version": 3
   },
   "file_extension": ".py",
   "mimetype": "text/x-python",
   "name": "python",
   "nbconvert_exporter": "python",
   "pygments_lexer": "ipython3",
   "version": "3.13.1"
  }
 },
 "nbformat": 4,
 "nbformat_minor": 2
}
