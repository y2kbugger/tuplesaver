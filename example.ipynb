{
 "cells": [
  {
   "cell_type": "code",
   "execution_count": null,
   "metadata": {},
   "outputs": [],
   "source": [
    "from __future__ import annotations\n",
    "import datetime as dt\n",
    "from typing import NamedTuple\n",
    "from collections.abc import Iterable\n",
    "from random import random\n",
    "import sys\n",
    "\n",
    "from micro_namedtuple_sqlite_persister.persister import Engine\n",
    "from micro_namedtuple_sqlite_persister.adaptconvert import register_standard_adaptconverters\n",
    "register_standard_adaptconverters()"
   ]
  },
  {
   "cell_type": "markdown",
   "metadata": {},
   "source": [
    "# Models"
   ]
  },
  {
   "cell_type": "code",
   "execution_count": null,
   "metadata": {},
   "outputs": [],
   "source": [
    "class MyModel(NamedTuple):\n",
    "    id: int | None\n",
    "    name: str\n",
    "    date: dt.datetime\n",
    "    score: float | None"
   ]
  },
  {
   "cell_type": "markdown",
   "metadata": {},
   "source": [
    "Connect to the database and create tables with an `Engine`"
   ]
  },
  {
   "cell_type": "code",
   "execution_count": null,
   "metadata": {},
   "outputs": [],
   "source": [
    "engine = Engine(\":memory:\")\n",
    "# engine = Engine(\"example.db\")\n",
    "engine.connection.set_trace_callback(lambda sql: print(sql, file=sys.stderr)) # echo SQL\n",
    "engine.ensure_table_created(MyModel)\n",
    "engine.connection # just the real connection object"
   ]
  },
  {
   "cell_type": "markdown",
   "metadata": {},
   "source": [
    "# Basic CRUD"
   ]
  },
  {
   "cell_type": "markdown",
   "metadata": {},
   "source": [
    "## Insert row"
   ]
  },
  {
   "cell_type": "code",
   "execution_count": null,
   "metadata": {},
   "outputs": [],
   "source": [
    "row = MyModel(None, \"Bart\", dt.datetime.now(), 6.5)\n",
    "row = engine.save(row)\n",
    "engine.connection.commit()\n",
    "row"
   ]
  },
  {
   "cell_type": "markdown",
   "metadata": {},
   "source": [
    "## Find row by id"
   ]
  },
  {
   "cell_type": "code",
   "execution_count": null,
   "metadata": {},
   "outputs": [],
   "source": [
    "engine.find(MyModel, row.id)"
   ]
  },
  {
   "cell_type": "markdown",
   "metadata": {},
   "source": [
    "## Find row by Field"
   ]
  },
  {
   "cell_type": "code",
   "execution_count": null,
   "metadata": {},
   "outputs": [],
   "source": [
    "engine.find_by(MyModel, name= \"Bart\")"
   ]
  },
  {
   "cell_type": "markdown",
   "metadata": {},
   "source": [
    "## Update row"
   ]
  },
  {
   "cell_type": "code",
   "execution_count": null,
   "metadata": {},
   "outputs": [],
   "source": [
    "engine.save(row._replace(score=78.9))\n",
    "engine.connection.commit()"
   ]
  },
  {
   "cell_type": "markdown",
   "metadata": {},
   "source": [
    "## Delete row"
   ]
  },
  {
   "cell_type": "markdown",
   "metadata": {},
   "source": [
    "by id"
   ]
  },
  {
   "cell_type": "code",
   "execution_count": null,
   "metadata": {},
   "outputs": [],
   "source": [
    "row2 = engine.save(MyModel(None, \"foo\", dt.datetime.now(), 6.5))\n",
    "\n",
    "engine.delete(MyModel, row2.id)\n",
    "engine.connection.commit()"
   ]
  },
  {
   "cell_type": "markdown",
   "metadata": {},
   "source": [
    "by instance"
   ]
  },
  {
   "cell_type": "code",
   "execution_count": null,
   "metadata": {},
   "outputs": [],
   "source": [
    "row3 = engine.save(MyModel(None, \"bar\", dt.datetime.now(), 9.5))\n",
    "\n",
    "engine.delete(row3)\n",
    "engine.connection.commit()"
   ]
  },
  {
   "cell_type": "markdown",
   "metadata": {},
   "source": [
    "# Foreign Keys Relationships\n",
    "Models can be related by using a model as a field type in another model."
   ]
  },
  {
   "cell_type": "code",
   "execution_count": null,
   "metadata": {},
   "outputs": [],
   "source": [
    "class Band(NamedTuple):\n",
    "    id: int | None\n",
    "    name: str\n",
    "    active: bool\n",
    "\n",
    "class BandMember(NamedTuple):\n",
    "    id: int | None\n",
    "    band: Band\n",
    "    name: str\n",
    "    instrument: str\n",
    "\n",
    "engine.ensure_table_created(Band)\n",
    "engine.ensure_table_created(BandMember)"
   ]
  },
  {
   "cell_type": "markdown",
   "metadata": {},
   "source": [
    "## Save deeply\n",
    "\n",
    "When saving a model with related models, you can use the `deep=True` argument to recursively insert/update/get related models.\n",
    "\n",
    "Recursively insert/update/get related models. Rows without an id will be inserted, rows with an id will be updated."
   ]
  },
  {
   "cell_type": "code",
   "execution_count": null,
   "metadata": {},
   "outputs": [],
   "source": [
    "beatles = Band(None, \"The Band\", True)\n",
    "paul = BandMember(None, beatles, \"Paul McCartney\", \"Bass\")\n",
    "\n",
    "# saves both the band and the member\n",
    "paul = engine.save(paul, deep=True)\n",
    "engine.connection.commit()"
   ]
  },
  {
   "cell_type": "markdown",
   "metadata": {},
   "source": [
    "## Recursive loading\n",
    "Related models are loaded recursively.\n",
    "\n",
    "You can control/disable this by making view models that exclude the related models."
   ]
  },
  {
   "cell_type": "code",
   "execution_count": null,
   "metadata": {},
   "outputs": [],
   "source": [
    "singer = engine.find(BandMember, paul.id)\n",
    "display(singer)\n",
    "\n",
    "# Note how the `band` field gets pulled in\n",
    "print(singer.name)\n",
    "print(singer.band.name)"
   ]
  },
  {
   "cell_type": "code",
   "execution_count": null,
   "metadata": {},
   "outputs": [],
   "source": [
    "class League(NamedTuple):\n",
    "    id: int | None\n",
    "    leaguename: str\n",
    "\n",
    "class Team(NamedTuple):\n",
    "    id: int | None\n",
    "    teamname: str\n",
    "    league: League\n",
    "\n",
    "class Athlete(NamedTuple):\n",
    "    id: int | None\n",
    "    name: str\n",
    "    team: Team\n",
    "\n",
    "\n",
    "engine.ensure_table_created(League)\n",
    "engine.ensure_table_created(Team)\n",
    "engine.ensure_table_created(Athlete)\n",
    "\n",
    "# Insert dummy data\n",
    "leagues = [\n",
    "    engine.save(League(None, \"Big\")),\n",
    "    engine.save(League(None, \"Small\")),\n",
    "    ]\n",
    "teams = [\n",
    "    red:=engine.save(Team(None, \"Red\", leagues[0])),\n",
    "    engine.save(Team(None, \"Ramble\", leagues[1])),\n",
    "    engine.save(Team(None, \"Blue\", leagues[0])),\n",
    "    engine.save(Team(None, \"Green\", leagues[1])),\n",
    "    ]\n",
    "players = [\n",
    "    alice:=engine.save(Athlete(None, \"Alice\", teams[0])),\n",
    "    engine.save(Athlete(None, \"Bob\", teams[0])),\n",
    "    engine.save(Athlete(None, \"Charlie\", teams[1])),\n",
    "    engine.save(Athlete(None, \"Dave\", teams[2])),\n",
    "    engine.save(Athlete(None, \"Beth\", teams[3])),\n",
    "    engine.save(Athlete(None, \"Frank\", teams[2])),\n",
    "]\n",
    "engine.connection.commit()"
   ]
  },
  {
   "cell_type": "code",
   "execution_count": null,
   "metadata": {},
   "outputs": [],
   "source": [
    "engine.find(Athlete, alice.id).team.league.leaguename"
   ]
  },
  {
   "cell_type": "markdown",
   "metadata": {},
   "source": [
    "## Alternate Models\n",
    "Create a model that queries a subset or alternate form of the data, for example pulling in a foreign key as an int id instead of the full `Model` instance.\n",
    "\n",
    "The name of the table comes before a '_'"
   ]
  },
  {
   "cell_type": "code",
   "execution_count": null,
   "metadata": {},
   "outputs": [],
   "source": [
    "class Team_NameOnly(NamedTuple):\n",
    "    id: int | None\n",
    "    teamname: str\n",
    "\n",
    "engine.find(Team_NameOnly, alice.team.id)"
   ]
  },
  {
   "cell_type": "code",
   "execution_count": null,
   "metadata": {},
   "outputs": [],
   "source": [
    "class Athlete_TeamAsIntId(NamedTuple):\n",
    "    id: int | None\n",
    "    name: str\n",
    "    team: int\n",
    "\n",
    "engine.find(Athlete_TeamAsIntId, alice.id)"
   ]
  },
  {
   "cell_type": "markdown",
   "metadata": {},
   "source": [
    "## Table-less models and the `Any` type\n",
    "Models can also be completely table-less, for example to represent a view or a query result. These models do not require an id field. They also have a special field type available, `Any`, which can be used to represent any type of data. This is particularly useful for dynamic or polymorphic data structures where the exact type may not be known until runtime.\n",
    "\n"
   ]
  },
  {
   "cell_type": "code",
   "execution_count": null,
   "metadata": {},
   "outputs": [],
   "source": [
    "from typing import Any\n",
    "\n",
    "class TableInfo(NamedTuple):\n",
    "    cid: int\n",
    "    name: str\n",
    "    type: str\n",
    "    notnull: int\n",
    "    dflt_value: Any # `Any` will return raw value matching python's bare sqlite3, without conversion\n",
    "    pk: int\n",
    "\n",
    "sql = f\"PRAGMA table_info({Athlete.__name__})\"\n",
    "\n",
    "cols = engine.query(TableInfo, sql).fetchall()\n",
    "for col in cols:\n",
    "    print(f\"{col.cid:2d} {col.name:10s} {col.type:10s} {str(col.dflt_value or 'None'):10s}\")"
   ]
  },
  {
   "cell_type": "markdown",
   "metadata": {},
   "source": [
    "# Querying"
   ]
  },
  {
   "cell_type": "markdown",
   "metadata": {},
   "source": [
    "The interface for querying is very simple, you can use any arbitrary SQL directly.\n",
    "\n",
    "```python\n",
    "engine.query(Model, sql)\n",
    "```"
   ]
  },
  {
   "cell_type": "code",
   "execution_count": null,
   "metadata": {},
   "outputs": [],
   "source": [
    "class AverageScoreResults(NamedTuple):\n",
    "    avg_score: float\n",
    "    scorecount: int\n",
    "\n",
    "sql = 'SELECT avg(score), count(*) FROM MyModel'\n",
    "\n",
    "result = engine.query(AverageScoreResults, sql).fetchone()\n",
    "assert result is not None\n",
    "\n",
    "print(f'The table has {result.scorecount} rows, with and average of {result.avg_score:0.2f}')"
   ]
  },
  {
   "cell_type": "markdown",
   "metadata": {},
   "source": [
    "`select` is a simple yet powerful way to retrieve Models from the database.\n",
    "\n",
    "The most simple case selects all rows from a table.\n",
    "\n",
    "`select` returns a tuple of `(Model, query)`, matching the `engine.query` interface.\n"
   ]
  },
  {
   "cell_type": "code",
   "execution_count": null,
   "metadata": {},
   "outputs": [],
   "source": [
    "from micro_namedtuple_sqlite_persister.query import select\n",
    "\n",
    "M, q = select(Athlete)\n",
    "\n",
    "for player in engine.query(M, q).fetchall():\n",
    "    print(player)\n"
   ]
  },
  {
   "cell_type": "markdown",
   "metadata": {},
   "source": [
    "For brevity, inline `select(Model)` and `*`splat the `(M,q)` tuple right into `engine.query`."
   ]
  },
  {
   "cell_type": "code",
   "execution_count": null,
   "metadata": {},
   "outputs": [],
   "source": [
    "for player in engine.query(*select(Athlete)).fetchall():\n",
    "    print(player)"
   ]
  },
  {
   "cell_type": "markdown",
   "metadata": {},
   "source": [
    "The select query can easily be modified to add `WHERE` clauses.\n",
    "\n",
    "> **Note:** These `def`s never actually run, but instead are analyzed through reflection to build the query.\n",
    "\n",
    "```python"
   ]
  },
  {
   "cell_type": "code",
   "execution_count": null,
   "metadata": {},
   "outputs": [],
   "source": [
    "@select(Athlete)\n",
    "def athletes_named_beth():\n",
    "    return f\"WHERE {Athlete.name} LIKE 'B%'\"\n",
    "\n",
    "for player in engine.query(*athletes_named_beth()).fetchall():\n",
    "    print(player)"
   ]
  },
  {
   "cell_type": "markdown",
   "metadata": {},
   "source": [
    "Joins are automatically determined by the field path (e.g. `Athlete.team.name`). The `Model` class referenced by the `select` must always be the root of your field path."
   ]
  },
  {
   "cell_type": "code",
   "execution_count": null,
   "metadata": {},
   "outputs": [],
   "source": [
    "# a single join\n",
    "@select(Athlete)\n",
    "def athletes_on_red_team():\n",
    "    return f\"WHERE {Athlete.team.teamname} = 'Red'\"\n",
    "\n",
    "# two joins required\n",
    "@select(Athlete)\n",
    "def athletes_in_big_leagues():\n",
    "    return f\"WHERE {Athlete.team.league.leaguename} = 'Big'\"\n",
    "\n",
    "\n",
    "for player in engine.query(*athletes_on_red_team()).fetchall():\n",
    "    print(player)\n",
    "\n",
    "for player in engine.query(*athletes_in_big_leagues()).fetchall():\n",
    "    print(player)"
   ]
  },
  {
   "cell_type": "markdown",
   "metadata": {},
   "source": [
    "# Querys requiring backrefs\n",
    "\n",
    "Eventually we will support backrefs:\n",
    "\n",
    "```python\n",
    "class League(NamedTuple):\n",
    "    id: int | None\n",
    "    leaguename: str\n",
    "    teams: List[Team] # backref will be something like this\n",
    "```\n",
    "\n",
    "And then you could do:\n",
    "\n",
    "```python\n",
    "@select(League)\n",
    "def leagues_with_big_teams():\n",
    "    return f\"WHERE {League.teams.teamname} = 'Big'\"\n",
    "```\n",
    "\n",
    "For now just fallback to raw queries: \n"
   ]
  },
  {
   "cell_type": "code",
   "execution_count": null,
   "metadata": {},
   "outputs": [],
   "source": [
    "sql = 'SELECT * FROM League JOIN Team ON Team.league = League.id WHERE Team.teamname = \"Big\"'\n",
    "result = engine.query(League, sql).fetchone()\n"
   ]
  },
  {
   "cell_type": "markdown",
   "metadata": {},
   "source": [
    "## Query Parameters\n",
    "The decorated function can also take parameters which will be return as a third element in the tuple."
   ]
  },
  {
   "cell_type": "code",
   "execution_count": null,
   "metadata": {},
   "outputs": [],
   "source": [
    "@select(Athlete)\n",
    "def athletes_in_league(league: str):\n",
    "    return f\"WHERE {Athlete.team.league.leaguename} = {league}\"\n",
    "\n",
    "M, q, p = athletes_in_league('Big')\n",
    "\n",
    "print(\"Our query:\")\n",
    "print(q)\n",
    "print(p)\n",
    "print()\n",
    "\n",
    "for player in engine.query(M, q, p).fetchall():\n",
    "    print(player)\n",
    "\n",
    "# or the same, but more concisely\n",
    "for player in engine.query(*athletes_in_league('Small')).fetchall():\n",
    "    print(player)"
   ]
  },
  {
   "cell_type": "markdown",
   "metadata": {},
   "source": [
    "## SQLite3 Cursor\n",
    "Notice that query returns a real `sqlite3.Cursor`, you can use it to `fetchall`, `fetchone`, `fetchmany`, etc.\n",
    "\n",
    "The only thing we do is set the `Cursor.row_factory` to return Model instances, and stub the static typehints in for them as well."
   ]
  },
  {
   "cell_type": "code",
   "execution_count": null,
   "metadata": {},
   "outputs": [],
   "source": [
    "engine.query(*select(Athlete)).fetchone()"
   ]
  },
  {
   "cell_type": "markdown",
   "metadata": {},
   "source": [
    "# Persisting native python collections\n",
    "You can persist any list or dict that recusively serializes to valid JSON using the `json.dumps'and `json.loads` methods. Enums will be supported in the future."
   ]
  },
  {
   "cell_type": "code",
   "execution_count": null,
   "metadata": {},
   "outputs": [],
   "source": [
    "class JsonExample(NamedTuple):\n",
    "    id: int | None\n",
    "    names: dict\n",
    "\n",
    "engine.ensure_table_created(JsonExample)\n",
    "names = {\"Alice\": 1, \"Bob\": 2, \"Charlie\": 3}\n",
    "row = engine.save(JsonExample(None, names))\n",
    "\n",
    "engine.find(JsonExample, row.id)"
   ]
  },
  {
   "cell_type": "markdown",
   "metadata": {},
   "source": [
    "## SQLite3 supports JSON extensions"
   ]
  },
  {
   "cell_type": "code",
   "execution_count": null,
   "metadata": {},
   "outputs": [],
   "source": [
    "class Character(NamedTuple):\n",
    "    id: int | None\n",
    "    name: str\n",
    "    stats: dict\n",
    "\n",
    "engine.ensure_table_created(Character)\n",
    "\n",
    "engine.save(Character(None, 'Harbel', {'spell': 'Fireball', 'level': 3}))\n",
    "engine.save(Character(None, 'Quenswen', {'spell': 'Waterspout', 'level': 27}))\n",
    "engine.save(Character(None, 'Ruthbag', {'spell': 'Fireball', 'level': 12}))\n",
    "\n",
    "@select(Character)\n",
    "def get_fireball_characters():\n",
    "    f\"WHERE {Character.stats} ->> '$.spell' = 'Fireball'\"\n",
    "\n",
    "for c in engine.query(*get_fireball_characters()).fetchall():\n",
    "    print(f\"{c.name} has a fireball at level {c.stats['level']}\")"
   ]
  },
  {
   "cell_type": "markdown",
   "metadata": {},
   "source": [
    "# Persisting Custom Types: Adapt/Convert"
   ]
  },
  {
   "cell_type": "code",
   "execution_count": null,
   "metadata": {},
   "outputs": [],
   "source": [
    "class PhoneNumber:\n",
    "    def __init__(self, area_code: int, number: int):\n",
    "        self.area_code = area_code\n",
    "        self.number = number\n",
    "\n",
    "    def __repr__(self):\n",
    "        return f\"PhoneNumber({self.area_code}, {self.number})\"\n",
    "\n",
    "def adapt_phonenumber(obj: PhoneNumber) -> bytes:\n",
    "    return f\"({obj.area_code}) {obj.number}\".encode()\n",
    "\n",
    "def convert_phonenumber(data: bytes) -> PhoneNumber:\n",
    "    area_code, number = data.decode().split(\" \", 1)\n",
    "    return PhoneNumber(int(area_code.strip(\"()\")), int(number))\n",
    "from micro_namedtuple_sqlite_persister.adaptconvert import register_adapt_convert, AdaptConvertTypeAlreadyRegistered\n",
    "\n",
    "\n",
    "register_adapt_convert(PhoneNumber, adapt_phonenumber, convert_phonenumber, overwrite=True)\n",
    "\n",
    "\n",
    "class LibraryMember(NamedTuple):\n",
    "    id: int | None\n",
    "    name: str\n",
    "    pnumber: PhoneNumber\n",
    "\n",
    "engine.ensure_table_created(LibraryMember)\n",
    "row2 = LibraryMember(None, \"Alice\", PhoneNumber(123, 4567890))\n",
    "\n",
    "row2 = engine.save(row2)\n",
    "engine.connection.commit()\n",
    "\n",
    "engine.find(LibraryMember, row2.id)"
   ]
  },
  {
   "cell_type": "markdown",
   "metadata": {},
   "source": [
    "There is a special helper function for the common case of pickleable types, like `pandas.DataFrame`, `numpy.ndarray`, etc."
   ]
  },
  {
   "cell_type": "code",
   "execution_count": null,
   "metadata": {},
   "outputs": [],
   "source": [
    "import pandas as pd\n",
    "\n",
    "from micro_namedtuple_sqlite_persister.adaptconvert import register_pickleable_adapt_convert\n",
    "\n",
    "class DataAnalysis(NamedTuple):\n",
    "    id: int | None\n",
    "    name: str\n",
    "    df: pd.DataFrame\n",
    "\n",
    "register_pickleable_adapt_convert(pd.DataFrame)\n",
    "engine.ensure_table_created(DataAnalysis)\n",
    "\n",
    "df = pd.DataFrame({\"a\": [1, 2, 3], \"b\": [4, 5, 6]})\n",
    "row = engine.save(DataAnalysis(None, \"foo\", df))\n",
    "\n",
    "engine.find(DataAnalysis, row.id).df\n"
   ]
  },
  {
   "cell_type": "markdown",
   "metadata": {},
   "source": [
    "# Performance scenarios\n",
    "Every call to insert real full trip to the db. The data is ready to be queried immediately, in SQLAlchemy parlance, 'flushed'. Committig ends the implicit transaction and ensures that the data is persisted to disk. Data is then avialable to other connections e.g. other worker processes\n",
    "\n",
    "Because the db and app share a process, the performance is good enough that you can basically ignore the N+1 problem. This also simplifies implementation of this library, no need to track session etc. It also simplifies your app as data is syncronized immediately with the database, thus eliminates the need for a stateful cache, a source off many bugs and complexity."
   ]
  },
  {
   "cell_type": "code",
   "execution_count": null,
   "metadata": {},
   "outputs": [],
   "source": [
    "engine.connection.set_trace_callback(None) # disable echo SQL"
   ]
  },
  {
   "cell_type": "markdown",
   "metadata": {},
   "source": [
    "## Insert many (17,000 rows)"
   ]
  },
  {
   "cell_type": "code",
   "execution_count": null,
   "metadata": {},
   "outputs": [],
   "source": [
    "rows = [MyModel(None, \"foo\", dt.datetime.now(), random()*100) for _ in range(17000)]"
   ]
  },
  {
   "cell_type": "code",
   "execution_count": null,
   "metadata": {},
   "outputs": [],
   "source": [
    "for r in rows:\n",
    "    engine.save(r)\n",
    "\n",
    "engine.connection.commit()"
   ]
  },
  {
   "cell_type": "markdown",
   "metadata": {},
   "source": [
    "## Update many (17,000 rows)"
   ]
  },
  {
   "cell_type": "code",
   "execution_count": null,
   "metadata": {},
   "outputs": [],
   "source": [
    "rows = [row._replace(date=dt.datetime.now(), score=random()*100) for row in rows]"
   ]
  },
  {
   "cell_type": "code",
   "execution_count": null,
   "metadata": {},
   "outputs": [],
   "source": [
    "for r in rows:\n",
    "    engine.save(r)\n",
    "\n",
    "engine.connection.commit()"
   ]
  },
  {
   "cell_type": "markdown",
   "metadata": {},
   "source": [
    "## Query many"
   ]
  },
  {
   "cell_type": "code",
   "execution_count": null,
   "metadata": {},
   "outputs": [],
   "source": [
    "def print_30_per_line(ss: Iterable[str]):\n",
    "    for i,s in enumerate(ss, 1):\n",
    "        print(s, end=\" \")\n",
    "        if i % 30 == 0:\n",
    "            print()\n",
    "    print()\n",
    "\n",
    "@select(MyModel)\n",
    "def high_scores():\n",
    "    return f\"WHERE {MyModel.score} > 95.7\"\n",
    "\n",
    "rows = engine.query(*high_scores()).fetchall()\n",
    "print_30_per_line(f\"{r.score:5.1f}\" for r in rows)"
   ]
  },
  {
   "cell_type": "markdown",
   "metadata": {},
   "source": [
    "## Giant Recursive BOM"
   ]
  },
  {
   "cell_type": "code",
   "execution_count": null,
   "metadata": {},
   "outputs": [],
   "source": [
    "class BOM(NamedTuple):\n",
    "    id: int | None\n",
    "    name: str\n",
    "    value: float\n",
    "    child_a: BOM | None\n",
    "    child_b: BOM | None\n",
    "\n",
    "engine.ensure_table_created(BOM)\n",
    "\n",
    "from random import random, choice\n",
    "node_count = 0\n",
    "def generate_node_name_node(depth: int) -> str:\n",
    "    alphabet = \"ABCDEFGHIJKLMNOPQRSTUVWXYZ\"\n",
    "    return f\"{choice(alphabet)}{choice(alphabet)}{choice(alphabet)}{depth:05d}_{node_count}\"\n",
    "\n",
    "\n",
    "# create a giant BOM, of 15 levels deep\n",
    "def create_bom(depth: int) -> BOM:\n",
    "    global node_count\n",
    "    node_count += 1\n",
    "\n",
    "    if depth == 1:\n",
    "        child_a = None\n",
    "        child_b = None\n",
    "    else:\n",
    "        child_a = create_bom(depth-1)\n",
    "        child_b = create_bom(depth-1)\n",
    "\n",
    "    return BOM(None, generate_node_name_node(depth), random()*1000 - 500, child_a, child_b)\n",
    "\n",
    "root = create_bom(13)\n",
    "print(f\"Created a BOM with {node_count} nodes\")"
   ]
  },
  {
   "cell_type": "code",
   "execution_count": null,
   "metadata": {},
   "outputs": [],
   "source": [
    "inserted_root = engine.save(root, deep=True)\n",
    "engine.connection.commit()\n",
    "\n",
    "print(f\"Inserted BOM with id: {inserted_root.id}\")"
   ]
  },
  {
   "cell_type": "code",
   "execution_count": null,
   "metadata": {},
   "outputs": [],
   "source": [
    "recovered_root = engine.find(BOM, inserted_root.id, deep=True)\n",
    "\n",
    "def count_nodes(node: BOM | None) -> int:\n",
    "    if node is None:\n",
    "        return 0\n",
    "    return 1 + count_nodes(node.child_a) + count_nodes(node.child_b)\n",
    "\n",
    "print(f\"Recovered BOM with {count_nodes(recovered_root)} nodes\")"
   ]
  },
  {
   "cell_type": "code",
   "execution_count": null,
   "metadata": {},
   "outputs": [],
   "source": [
    "import math\n",
    "\n",
    "import matplotlib.pyplot as plt\n",
    "import networkx as nx\n",
    "\n",
    "def add_nodes_edges(G: nx.Graph, node: BOM | None):\n",
    "    if node is None:\n",
    "        return\n",
    "\n",
    "    G.add_node(node.id, label=node.name)\n",
    "    if node.child_a is not None:\n",
    "        G.add_edge(node.id, node.child_a.id)\n",
    "        add_nodes_edges(G, node.child_a)\n",
    "\n",
    "    if node.child_b is not None:\n",
    "        G.add_edge(node.id, node.child_b.id)\n",
    "        add_nodes_edges(G, node.child_b)\n",
    "\n",
    "def hierarchical_tree_layout(G, root_node):\n",
    "    pos = {}\n",
    "\n",
    "    # Build adjacency list from the graph\n",
    "    adj = {node: list(G.neighbors(node)) for node in G.nodes()}\n",
    "\n",
    "    # BFS to determine levels and children\n",
    "    from collections import deque\n",
    "    queue = deque([(root_node, 0)])\n",
    "    visited = {root_node}\n",
    "    levels = {}\n",
    "    children = {node: [] for node in G.nodes()}\n",
    "\n",
    "    while queue:\n",
    "        node, level = queue.popleft()\n",
    "        levels[node] = level\n",
    "\n",
    "        for neighbor in adj[node]:\n",
    "            if neighbor not in visited:\n",
    "                visited.add(neighbor)\n",
    "                children[node].append(neighbor)\n",
    "                queue.append((neighbor, level + 1))\n",
    "\n",
    "    # Position nodes level by level\n",
    "    def position_subtree(node, level, angle_start, angle_end):\n",
    "        # Position current node\n",
    "        if level == 0:\n",
    "            pos[node] = (0, 0)  # Root at center\n",
    "        else:\n",
    "            angle = (angle_start + angle_end)\n",
    "            radius = level * 0.8  # Increase radius per level\n",
    "            x = radius * math.cos(angle)\n",
    "            y = radius * math.sin(angle)\n",
    "            pos[node] = (x, y)\n",
    "\n",
    "        # Position children\n",
    "        kids = children[node]\n",
    "        if kids:\n",
    "            angle_span = min(angle_end - angle_start, 2 * math.pi / max(1, len(kids)))\n",
    "            angle_per_child = angle_span / len(kids)\n",
    "\n",
    "            for i, child in enumerate(kids):\n",
    "                child_angle_start = angle_start + i * angle_per_child\n",
    "                child_angle_end = child_angle_start + angle_per_child\n",
    "                position_subtree(child, level + 1, child_angle_start, child_angle_end)\n",
    "\n",
    "    # Start positioning from root\n",
    "    position_subtree(root_node, 0, 0, 2 * math.pi)\n",
    "    return pos\n",
    "\n",
    "\n",
    "G = nx.Graph()\n",
    "add_nodes_edges(G, recovered_root)\n",
    "\n",
    "plt.figure(figsize=(10, 10))\n",
    "nx.draw(G, hierarchical_tree_layout(G, recovered_root.id),\n",
    "    node_size=6, width=0.2, node_color=\"blue\",\n",
    "    with_labels=node_count<1200,\n",
    "    labels=nx.get_node_attributes(G, \"label\"),\n",
    "    )\n",
    "plt.show()"
   ]
  },
  {
   "cell_type": "markdown",
   "metadata": {},
   "source": [
    "# Meta\n",
    "Meta is a global cache of model metadata. It is global, rather then per-engine, because sqlite3 adapters and converters are global, and we must avoid a having conflicting adapter/converters/models.\n",
    "\n",
    "Debug out internal meta"
   ]
  },
  {
   "cell_type": "code",
   "execution_count": null,
   "metadata": {},
   "outputs": [],
   "source": [
    "from micro_namedtuple_sqlite_persister.model import _meta\n",
    "for k,v in _meta.items():\n",
    "    print(f\"{k}: {v}\")"
   ]
  }
 ],
 "metadata": {
  "kernelspec": {
   "display_name": "micro-namedtuple-sqlite-persister-py3.13",
   "language": "python",
   "name": "python3"
  },
  "language_info": {
   "codemirror_mode": {
    "name": "ipython",
    "version": 3
   },
   "file_extension": ".py",
   "mimetype": "text/x-python",
   "name": "python",
   "nbconvert_exporter": "python",
   "pygments_lexer": "ipython3",
   "version": "3.13.5"
  }
 },
 "nbformat": 4,
 "nbformat_minor": 2
}
