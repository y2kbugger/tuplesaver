{
 "cells": [
  {
   "cell_type": "code",
   "execution_count": null,
   "metadata": {},
   "outputs": [],
   "source": [
    "import datetime as dt\n",
    "from typing import NamedTuple\n",
    "\n",
    "from micro_namedtuple_sqlite_persister.persister import Engine, enable_included_adaptconverters\n",
    "enable_included_adaptconverters()"
   ]
  },
  {
   "cell_type": "code",
   "execution_count": null,
   "metadata": {},
   "outputs": [],
   "source": [
    "class MyModel(NamedTuple):\n",
    "    id: int | None\n",
    "    name: str\n",
    "    date: dt.datetime\n",
    "    score: float | None"
   ]
  },
  {
   "cell_type": "code",
   "execution_count": null,
   "metadata": {},
   "outputs": [],
   "source": [
    "# engine = Engine(\":memory:\")\n",
    "engine = Engine(\"example.db\")\n",
    "engine.ensure_table_created(MyModel, force_recreate=True)"
   ]
  },
  {
   "cell_type": "code",
   "execution_count": null,
   "metadata": {},
   "outputs": [],
   "source": [
    "row = MyModel(None, \"Bart\", dt.datetime.now(), 6.5)\n",
    "row = engine.insert(row)\n",
    "engine.connection.commit()\n",
    "row"
   ]
  },
  {
   "cell_type": "code",
   "execution_count": null,
   "metadata": {},
   "outputs": [],
   "source": [
    "engine.get(MyModel,row.id)"
   ]
  },
  {
   "cell_type": "code",
   "execution_count": null,
   "metadata": {},
   "outputs": [],
   "source": [
    "from random import random\n",
    "randfloat = random()\n",
    "assert row.score is not None\n",
    "engine.update(row._replace(score=row.score*randfloat))\n",
    "engine.connection.commit()"
   ]
  },
  {
   "cell_type": "code",
   "execution_count": null,
   "metadata": {},
   "outputs": [],
   "source": [
    "row2 = engine.insert(MyModel(None, \"foo\", dt.datetime.now(), 6.5))\n",
    "\n",
    "print(f\"\\nAbout to delete the recently insert row: {row2} by id\")\n",
    "engine.delete(MyModel, row2.id)\n",
    "\n",
    "engine.connection.commit()"
   ]
  },
  {
   "cell_type": "code",
   "execution_count": null,
   "metadata": {},
   "outputs": [],
   "source": [
    "row3 = engine.insert(MyModel(None, \"bar\", dt.datetime.now(), 9.5))\n",
    "\n",
    "print(f\"\\nAbout to delete the recently insert row: {row3}, by row instance\")\n",
    "engine.delete(row3)\n",
    "\n",
    "engine.connection.commit()"
   ]
  },
  {
   "cell_type": "code",
   "execution_count": null,
   "metadata": {},
   "outputs": [],
   "source": [
    "# insert many\n",
    "for i in range(25000):\n",
    "    engine.insert(MyModel(None, \"foo\", dt.datetime.now(), random()*100))\n",
    "\n",
    "engine.connection.commit()"
   ]
  },
  {
   "cell_type": "code",
   "execution_count": null,
   "metadata": {},
   "outputs": [],
   "source": [
    "# update many\n",
    "for id in range(1, 5001):\n",
    "    engine.update(MyModel(id, \"drew\", dt.datetime.now(), random()*100))\n",
    "\n",
    "engine.connection.commit()"
   ]
  },
  {
   "cell_type": "markdown",
   "metadata": {},
   "source": [
    "# Querying"
   ]
  },
  {
   "cell_type": "code",
   "execution_count": null,
   "metadata": {},
   "outputs": [],
   "source": [
    "from micro_namedtuple_sqlite_persister.query import select, gt, and_, eq\n",
    "\n",
    "M, q = select(MyModel, where=gt(MyModel.score, 99.7))\n",
    "\n",
    "c = 1\n",
    "for r in engine.query(M,q).fetchall():\n",
    "    print(f\"{r.score:5.1f}\", end=\" \")\n",
    "    if c% 30 == 0:\n",
    "        print()\n",
    "    c += 1\n",
    "print()\n",
    "\n"
   ]
  },
  {
   "cell_type": "code",
   "execution_count": null,
   "metadata": {},
   "outputs": [],
   "source": [
    "M, q = select(MyModel, where=gt(MyModel.name, \"bart\"), limit=1)\n",
    "result = engine.query(M, q).fetchone()\n",
    "\n",
    "result\n"
   ]
  },
  {
   "cell_type": "code",
   "execution_count": null,
   "metadata": {},
   "outputs": [],
   "source": [
    "# Demo raw sql\n",
    "class AverageScoreResults(NamedTuple):\n",
    "    avg_score: float\n",
    "    scorecount: int\n",
    "\n",
    "sql = 'select avg(score),count(*) from MyModel'\n",
    "\n",
    "result = engine.query(AverageScoreResults, sql).fetchone()\n",
    "print(f'The table has {result.scorecount} rows, with and average of {result.avg_score:0.2f}')"
   ]
  },
  {
   "cell_type": "markdown",
   "metadata": {},
   "source": [
    "# Persisting Custom Types: Adapt/Convert"
   ]
  },
  {
   "cell_type": "code",
   "execution_count": null,
   "metadata": {},
   "outputs": [],
   "source": [
    "import pandas as pd\n",
    "import pickle\n",
    "\n",
    "from micro_namedtuple_sqlite_persister.persister import register_adapt_convert\n",
    "\n",
    "def adapt_df(obj: pd.DataFrame) -> bytes:\n",
    "    return pickle.dumps(obj)\n",
    "\n",
    "\n",
    "def convert_df(data: bytes) -> pd.DataFrame:\n",
    "    return pickle.loads(data)\n",
    "\n",
    "\n",
    "register_adapt_convert(pd.DataFrame, adapt_df, convert_df, overwrite=True)\n",
    "\n",
    "\n",
    "class MyModel2(NamedTuple):\n",
    "    id: int | None\n",
    "    name: str\n",
    "    df: pd.DataFrame\n",
    "\n",
    "engine.ensure_table_created(MyModel2)\n",
    "\n",
    "df = pd.DataFrame({\"a\": [1, 2, 3], \"b\": [4, 5, 6]})\n",
    "row = engine.insert(MyModel2(None, \"foo\", df))\n",
    "\n",
    "engine.get(MyModel2, row.id).df\n"
   ]
  },
  {
   "cell_type": "markdown",
   "metadata": {},
   "source": [
    "# Error Cases"
   ]
  },
  {
   "cell_type": "code",
   "execution_count": null,
   "metadata": {},
   "outputs": [],
   "source": [
    "# inserting a row with an id that already exists will raise an error\n",
    "engine.insert(MyModel(row.id, \"bar\", dt.datetime.now(), 3.14))"
   ]
  },
  {
   "cell_type": "code",
   "execution_count": null,
   "metadata": {},
   "outputs": [],
   "source": [
    "# Trying to update a row without specifying an id will raise an error\n",
    "engine.update(MyModel(None, \"bar\", dt.datetime.now(), 3.14))"
   ]
  },
  {
   "cell_type": "code",
   "execution_count": null,
   "metadata": {},
   "outputs": [],
   "source": [
    "# Raises an error if the id does not exist\n",
    "engine.update(MyModel(878787879879, \"bar\", dt.datetime.now(), 3.14))"
   ]
  },
  {
   "cell_type": "code",
   "execution_count": null,
   "metadata": {},
   "outputs": [],
   "source": [
    "# If schema already exists, but is not correct\n",
    "\n",
    "class MyModelExists(NamedTuple): # type: ignore this is part of the error\n",
    "    id: int | None\n",
    "    name: str\n",
    "engine.ensure_table_created(MyModelExists)\n",
    "\n",
    "class MyModelExists(NamedTuple):\n",
    "    id: int | None\n",
    "    name: str | None\n",
    "engine.ensure_table_created(MyModelExists)"
   ]
  },
  {
   "cell_type": "code",
   "execution_count": null,
   "metadata": {},
   "outputs": [],
   "source": [
    "# you have to have id: `int | None` as the first field\n",
    "\n",
    "class MyModelMissingId(NamedTuple):\n",
    "    name: str\n",
    "\n",
    "engine.ensure_table_created(MyModelMissingId)"
   ]
  },
  {
   "cell_type": "code",
   "execution_count": null,
   "metadata": {},
   "outputs": [],
   "source": []
  },
  {
   "cell_type": "code",
   "execution_count": null,
   "metadata": {},
   "outputs": [],
   "source": []
  }
 ],
 "metadata": {
  "kernelspec": {
   "display_name": ".venv",
   "language": "python",
   "name": "python3"
  },
  "language_info": {
   "codemirror_mode": {
    "name": "ipython",
    "version": 3
   },
   "file_extension": ".py",
   "mimetype": "text/x-python",
   "name": "python",
   "nbconvert_exporter": "python",
   "pygments_lexer": "ipython3",
   "version": "3.13.1"
  }
 },
 "nbformat": 4,
 "nbformat_minor": 2
}
