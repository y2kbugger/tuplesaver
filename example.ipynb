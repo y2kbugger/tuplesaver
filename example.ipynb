{
 "cells": [
  {
   "cell_type": "code",
   "execution_count": null,
   "metadata": {},
   "outputs": [],
   "source": [
    "import datetime as dt\n",
    "from io import BytesIO\n",
    "from typing import NamedTuple\n",
    "\n",
    "import pandas as pd\n",
    "\n",
    "from micro_namedtuple_sqlite_persister.persister import Engine, register_serde\n"
   ]
  },
  {
   "cell_type": "code",
   "execution_count": null,
   "metadata": {},
   "outputs": [],
   "source": [
    "def serialize_df(obj: pd.DataFrame) -> bytes:\n",
    "    return obj.to_parquet()\n",
    "\n",
    "\n",
    "def deserialize_df(data: bytes) -> pd.DataFrame:\n",
    "    return pd.read_parquet(BytesIO(data))\n",
    "\n",
    "\n",
    "register_serde(serialize_df, deserialize_df)\n",
    "\n",
    "\n",
    "class MyModel(NamedTuple):\n",
    "    id: int | None\n",
    "    name: str\n",
    "    date: dt.datetime\n",
    "    score_df: pd.DataFrame\n"
   ]
  },
  {
   "cell_type": "code",
   "execution_count": null,
   "metadata": {},
   "outputs": [],
   "source": [
    "engine = Engine(\":memory:\")\n",
    "engine.ensure_table_created(MyModel)\n",
    "\n",
    "row = MyModel(None, \"foo\", dt.datetime.now(), pd.DataFrame({\"a\": [1, 2, 3]}))\n",
    "row = engine.insert(row)\n",
    "print(row.id)\n",
    "# >>> 1\n",
    "\n",
    "\n",
    "engine.insert(row._replace(score_df=pd.DataFrame({\"a\": [1, 2, 3, 4]})))\n",
    "# >>> IdAlreadyExistsError\n"
   ]
  },
  {
   "cell_type": "code",
   "execution_count": null,
   "metadata": {},
   "outputs": [],
   "source": [
    "engine.update(row._replace(score_df=pd.DataFrame({\"a\": [1, 2, 3, 4]})))\n",
    "# success\n",
    "\n",
    "engine.update(row._replace(id=None))\n",
    "# IdMissingError\n",
    "\n",
    "engine.update(row._replace(id=999))\n",
    "# IdNotFoundError\n"
   ]
  },
  {
   "cell_type": "code",
   "execution_count": null,
   "metadata": {},
   "outputs": [],
   "source": [
    "assert row.id is not None\n",
    "engine.delete(MyModel, row.id)\n",
    "# success"
   ]
  }
 ],
 "metadata": {
  "kernelspec": {
   "display_name": ".venv",
   "language": "python",
   "name": "python3"
  },
  "language_info": {
   "codemirror_mode": {
    "name": "ipython",
    "version": 3
   },
   "file_extension": ".py",
   "mimetype": "text/x-python",
   "name": "python",
   "nbconvert_exporter": "python",
   "pygments_lexer": "ipython3",
   "version": "3.13.1"
  }
 },
 "nbformat": 4,
 "nbformat_minor": 2
}
